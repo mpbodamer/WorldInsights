{
 "cells": [
  {
   "cell_type": "markdown",
   "metadata": {},
   "source": [
    "# Economy Development Analysis"
   ]
  },
  {
   "cell_type": "code",
   "execution_count": 144,
   "metadata": {},
   "outputs": [],
   "source": [
    "#import all the necessary libraries:\n",
    "import pandas as pd\n",
    "import csv\n",
    "import numpy as np\n",
    "from sqlalchemy import create_engine\n",
    "from random import randint"
   ]
  },
  {
   "cell_type": "code",
   "execution_count": 145,
   "metadata": {},
   "outputs": [],
   "source": [
    "wedi_df = pd.DataFrame()\n",
    "wedi_df[\"country_name\"] = np.nan\n",
    "wedi_df[\"country_code\"] = np.nan\n",
    "wedi_df[\"indicator_name\"] = np.nan\n",
    "wedi_df[\"indicator_code\"] = np.nan\n",
    "wedi_df[\"year\"] = np.nan\n",
    "wedi_df[\"value\"]=np.nan"
   ]
  },
  {
   "cell_type": "code",
   "execution_count": 146,
   "metadata": {},
   "outputs": [],
   "source": [
    "# year = [print(result) for result in results]\n",
    "# start_value = 54211\n",
    "# year = [(result) for result in range(1980,1999)]\n",
    "# value = [(start_value + randint(100, 999)) for result in range(1980,1999)]"
   ]
  },
  {
   "cell_type": "code",
   "execution_count": 147,
   "metadata": {},
   "outputs": [],
   "source": [
    "economy_data = []\n",
    "start_value = 543300000000\n",
    "\n",
    "for result in range(1980,2019):\n",
    "    year = result\n",
    "    value = (start_value + randint(1000000, 9999990))\n",
    "    \n",
    "    data = {\n",
    "        'country_name': 'United States',\n",
    "        'country_code': 'USA',\n",
    "        'indicator_name': 'GDP (current US$)',\n",
    "        'indicator_code': 'NY.GDP.MKTP.CD',\n",
    "        'year': year,\n",
    "        'value': value\n",
    "    }\n",
    "    economy_data.append(data)\n",
    "wedi_df = wedi_df.append(economy_data, ignore_index=True)"
   ]
  },
  {
   "cell_type": "code",
   "execution_count": 148,
   "metadata": {},
   "outputs": [],
   "source": [
    "# economy_data = [{\n",
    "#     'country_name': 'Aruba',\n",
    "#     'country_code': 'ABW',\n",
    "#     'indicator_name': 'Population, total',\n",
    "#     'indicator_code': 'SP.POP.TOTL',\n",
    "#     'year': year,\n",
    "#     'value': value\n",
    "# }]\n",
    "# wedi_df = wedi_df.append(economy_data, ignore_index=True)\n",
    "# print(economy_data)"
   ]
  },
  {
   "cell_type": "code",
   "execution_count": 149,
   "metadata": {},
   "outputs": [
    {
     "data": {
      "text/html": [
       "<div>\n",
       "<style scoped>\n",
       "    .dataframe tbody tr th:only-of-type {\n",
       "        vertical-align: middle;\n",
       "    }\n",
       "\n",
       "    .dataframe tbody tr th {\n",
       "        vertical-align: top;\n",
       "    }\n",
       "\n",
       "    .dataframe thead th {\n",
       "        text-align: right;\n",
       "    }\n",
       "</style>\n",
       "<table border=\"1\" class=\"dataframe\">\n",
       "  <thead>\n",
       "    <tr style=\"text-align: right;\">\n",
       "      <th></th>\n",
       "      <th>country_name</th>\n",
       "      <th>country_code</th>\n",
       "      <th>indicator_name</th>\n",
       "      <th>indicator_code</th>\n",
       "      <th>year</th>\n",
       "      <th>value</th>\n",
       "    </tr>\n",
       "  </thead>\n",
       "  <tbody>\n",
       "    <tr>\n",
       "      <th>0</th>\n",
       "      <td>United States</td>\n",
       "      <td>USA</td>\n",
       "      <td>GDP (current US$)</td>\n",
       "      <td>NY.GDP.MKTP.CD</td>\n",
       "      <td>1980.0</td>\n",
       "      <td>5.433083e+11</td>\n",
       "    </tr>\n",
       "    <tr>\n",
       "      <th>1</th>\n",
       "      <td>United States</td>\n",
       "      <td>USA</td>\n",
       "      <td>GDP (current US$)</td>\n",
       "      <td>NY.GDP.MKTP.CD</td>\n",
       "      <td>1981.0</td>\n",
       "      <td>5.433050e+11</td>\n",
       "    </tr>\n",
       "    <tr>\n",
       "      <th>2</th>\n",
       "      <td>United States</td>\n",
       "      <td>USA</td>\n",
       "      <td>GDP (current US$)</td>\n",
       "      <td>NY.GDP.MKTP.CD</td>\n",
       "      <td>1982.0</td>\n",
       "      <td>5.433016e+11</td>\n",
       "    </tr>\n",
       "    <tr>\n",
       "      <th>3</th>\n",
       "      <td>United States</td>\n",
       "      <td>USA</td>\n",
       "      <td>GDP (current US$)</td>\n",
       "      <td>NY.GDP.MKTP.CD</td>\n",
       "      <td>1983.0</td>\n",
       "      <td>5.433083e+11</td>\n",
       "    </tr>\n",
       "    <tr>\n",
       "      <th>4</th>\n",
       "      <td>United States</td>\n",
       "      <td>USA</td>\n",
       "      <td>GDP (current US$)</td>\n",
       "      <td>NY.GDP.MKTP.CD</td>\n",
       "      <td>1984.0</td>\n",
       "      <td>5.433081e+11</td>\n",
       "    </tr>\n",
       "  </tbody>\n",
       "</table>\n",
       "</div>"
      ],
      "text/plain": [
       "    country_name country_code     indicator_name  indicator_code    year  \\\n",
       "0  United States          USA  GDP (current US$)  NY.GDP.MKTP.CD  1980.0   \n",
       "1  United States          USA  GDP (current US$)  NY.GDP.MKTP.CD  1981.0   \n",
       "2  United States          USA  GDP (current US$)  NY.GDP.MKTP.CD  1982.0   \n",
       "3  United States          USA  GDP (current US$)  NY.GDP.MKTP.CD  1983.0   \n",
       "4  United States          USA  GDP (current US$)  NY.GDP.MKTP.CD  1984.0   \n",
       "\n",
       "          value  \n",
       "0  5.433083e+11  \n",
       "1  5.433050e+11  \n",
       "2  5.433016e+11  \n",
       "3  5.433083e+11  \n",
       "4  5.433081e+11  "
      ]
     },
     "execution_count": 149,
     "metadata": {},
     "output_type": "execute_result"
    }
   ],
   "source": [
    "wedi_df.head()"
   ]
  },
  {
   "cell_type": "code",
   "execution_count": 150,
   "metadata": {},
   "outputs": [],
   "source": [
    "#Postgress Connection\n",
    "# rds_connection_string = \"postgres:{password}@localhost:5432/EconomyDevelopmentDB\"\n",
    "# engine = create_engine(f'postgresql://{rds_connection_string}')"
   ]
  },
  {
   "cell_type": "code",
   "execution_count": 151,
   "metadata": {},
   "outputs": [],
   "source": [
    "#SQLite Connection\n",
    "rds_connection_string = \"economy_development_db.sqlite\"\n",
    "engine = create_engine(f'sqlite:///{rds_connection_string}')"
   ]
  },
  {
   "cell_type": "code",
   "execution_count": 152,
   "metadata": {},
   "outputs": [
    {
     "data": {
      "text/plain": [
       "['economy_development']"
      ]
     },
     "execution_count": 152,
     "metadata": {},
     "output_type": "execute_result"
    }
   ],
   "source": [
    "engine.table_names()"
   ]
  },
  {
   "cell_type": "code",
   "execution_count": 153,
   "metadata": {},
   "outputs": [],
   "source": [
    "# if_exists='replace'\n",
    "# if_exists='replace'\n",
    "wedi_df.to_sql(name='economy_development', con=engine, if_exists='append', index=False)"
   ]
  },
  {
   "cell_type": "code",
   "execution_count": 154,
   "metadata": {},
   "outputs": [
    {
     "data": {
      "text/html": [
       "<div>\n",
       "<style scoped>\n",
       "    .dataframe tbody tr th:only-of-type {\n",
       "        vertical-align: middle;\n",
       "    }\n",
       "\n",
       "    .dataframe tbody tr th {\n",
       "        vertical-align: top;\n",
       "    }\n",
       "\n",
       "    .dataframe thead th {\n",
       "        text-align: right;\n",
       "    }\n",
       "</style>\n",
       "<table border=\"1\" class=\"dataframe\">\n",
       "  <thead>\n",
       "    <tr style=\"text-align: right;\">\n",
       "      <th></th>\n",
       "      <th>country_name</th>\n",
       "      <th>country_code</th>\n",
       "      <th>indicator_name</th>\n",
       "      <th>indicator_code</th>\n",
       "      <th>year</th>\n",
       "      <th>value</th>\n",
       "    </tr>\n",
       "  </thead>\n",
       "  <tbody>\n",
       "    <tr>\n",
       "      <th>0</th>\n",
       "      <td>Australia</td>\n",
       "      <td>AUS</td>\n",
       "      <td>GDP (current US$)</td>\n",
       "      <td>NY.GDP.MKTP.CD</td>\n",
       "      <td>1980.0</td>\n",
       "      <td>1.857921e+10</td>\n",
       "    </tr>\n",
       "    <tr>\n",
       "      <th>1</th>\n",
       "      <td>Australia</td>\n",
       "      <td>AUS</td>\n",
       "      <td>GDP (current US$)</td>\n",
       "      <td>NY.GDP.MKTP.CD</td>\n",
       "      <td>1981.0</td>\n",
       "      <td>1.858036e+10</td>\n",
       "    </tr>\n",
       "    <tr>\n",
       "      <th>2</th>\n",
       "      <td>Australia</td>\n",
       "      <td>AUS</td>\n",
       "      <td>GDP (current US$)</td>\n",
       "      <td>NY.GDP.MKTP.CD</td>\n",
       "      <td>1982.0</td>\n",
       "      <td>1.857970e+10</td>\n",
       "    </tr>\n",
       "    <tr>\n",
       "      <th>3</th>\n",
       "      <td>Australia</td>\n",
       "      <td>AUS</td>\n",
       "      <td>GDP (current US$)</td>\n",
       "      <td>NY.GDP.MKTP.CD</td>\n",
       "      <td>1983.0</td>\n",
       "      <td>1.858195e+10</td>\n",
       "    </tr>\n",
       "    <tr>\n",
       "      <th>4</th>\n",
       "      <td>Australia</td>\n",
       "      <td>AUS</td>\n",
       "      <td>GDP (current US$)</td>\n",
       "      <td>NY.GDP.MKTP.CD</td>\n",
       "      <td>1984.0</td>\n",
       "      <td>1.858231e+10</td>\n",
       "    </tr>\n",
       "  </tbody>\n",
       "</table>\n",
       "</div>"
      ],
      "text/plain": [
       "  country_name country_code     indicator_name  indicator_code    year  \\\n",
       "0    Australia          AUS  GDP (current US$)  NY.GDP.MKTP.CD  1980.0   \n",
       "1    Australia          AUS  GDP (current US$)  NY.GDP.MKTP.CD  1981.0   \n",
       "2    Australia          AUS  GDP (current US$)  NY.GDP.MKTP.CD  1982.0   \n",
       "3    Australia          AUS  GDP (current US$)  NY.GDP.MKTP.CD  1983.0   \n",
       "4    Australia          AUS  GDP (current US$)  NY.GDP.MKTP.CD  1984.0   \n",
       "\n",
       "          value  \n",
       "0  1.857921e+10  \n",
       "1  1.858036e+10  \n",
       "2  1.857970e+10  \n",
       "3  1.858195e+10  \n",
       "4  1.858231e+10  "
      ]
     },
     "execution_count": 154,
     "metadata": {},
     "output_type": "execute_result"
    }
   ],
   "source": [
    "pd.read_sql_query('select * from economy_development', con=engine).head()"
   ]
  },
  {
   "cell_type": "code",
   "execution_count": null,
   "metadata": {},
   "outputs": [],
   "source": []
  },
  {
   "cell_type": "code",
   "execution_count": null,
   "metadata": {},
   "outputs": [],
   "source": []
  },
  {
   "cell_type": "code",
   "execution_count": null,
   "metadata": {},
   "outputs": [],
   "source": []
  },
  {
   "cell_type": "code",
   "execution_count": null,
   "metadata": {},
   "outputs": [],
   "source": []
  }
 ],
 "metadata": {
  "kernelspec": {
   "display_name": "Python [conda env:PythonData] *",
   "language": "python",
   "name": "conda-env-PythonData-py"
  },
  "language_info": {
   "codemirror_mode": {
    "name": "ipython",
    "version": 3
   },
   "file_extension": ".py",
   "mimetype": "text/x-python",
   "name": "python",
   "nbconvert_exporter": "python",
   "pygments_lexer": "ipython3",
   "version": "3.6.9"
  }
 },
 "nbformat": 4,
 "nbformat_minor": 2
}
