{
 "cells": [
  {
   "cell_type": "code",
   "execution_count": 85,
   "metadata": {},
   "outputs": [],
   "source": [
    "import pandas as pd\n",
    "import csv\n",
    "import numpy as np\n"
   ]
  },
  {
   "cell_type": "code",
   "execution_count": 21,
   "metadata": {},
   "outputs": [],
   "source": [
    "def cleanData(csv):\n",
    "    data = pd.read_csv(csv, header=2)\n",
    "    \n",
    "    cleanDf = data.dropna(how='all', axis='columns')\n",
    "    \n",
    "    toDelete = []\n",
    "    \n",
    "    for row in cleanDf.iterrows():\n",
    "        if(np.isnan(row[1][-1])) and (np.isnan(row[1][-2])) and (np.isnan(row[1][-3])) and (np.isnan(row[1][-4])):\n",
    "            toDelete.append(row[0])\n",
    "\n",
    "    cleanDf = cleanDf.drop(toDelete)\n",
    "    \n",
    "    orderedDf = cleanDf.melt(id_vars=[\"Country Name\", \"Country Code\", \"Indicator Name\", \"Indicator Code\", ], \n",
    "        var_name=\"Year\", \n",
    "        value_name=\"Value\")\n",
    "    \n",
    "    return(orderedDf)"
   ]
  },
  {
   "cell_type": "code",
   "execution_count": 67,
   "metadata": {},
   "outputs": [],
   "source": [
    "annualGdpTotalCsv = \"annualGDP/annualGdpTotal.csv\"\n",
    "annualGdpGrowthCsv = \"growthGDP/annualGdpGrowth.csv\"\n",
    "populationTotalCsv = \"populationTotal/population.csv\"\n",
    "unemploymentPercentCsv = \"unemploymentPercent/unemployment.csv\"\n",
    "\n",
    "csvList = [\"annualGDP/annualGdpTotal.csv\",\"growthGDP/annualGdpGrowth.csv\",\n",
    "           \"populationTotal/population.csv\",\"unemploymentPercent/unemployment.csv\"]\n",
    "\n"
   ]
  },
  {
   "cell_type": "code",
   "execution_count": 75,
   "metadata": {},
   "outputs": [],
   "source": [
    "def appendData(csvList):\n",
    "    dataframeList = []\n",
    "    for i in range(len(csvList)):\n",
    "        dataframeList.append(csvList[i])\n",
    "    \n",
    "    fullData = pd.concat(dataframeList, ignore_index=True)\n",
    "    \n",
    "    return(fullData)"
   ]
  },
  {
   "cell_type": "code",
   "execution_count": 84,
   "metadata": {},
   "outputs": [],
   "source": [
    "appendData(csvList).to_csv(\"fullData.csv\", index=True)"
   ]
  },
  {
   "cell_type": "code",
   "execution_count": null,
   "metadata": {},
   "outputs": [],
   "source": []
  }
 ],
 "metadata": {
  "kernelspec": {
   "display_name": "Python 3",
   "language": "python",
   "name": "python3"
  },
  "language_info": {
   "codemirror_mode": {
    "name": "ipython",
    "version": 3
   },
   "file_extension": ".py",
   "mimetype": "text/x-python",
   "name": "python",
   "nbconvert_exporter": "python",
   "pygments_lexer": "ipython3",
   "version": "3.6.9"
  }
 },
 "nbformat": 4,
 "nbformat_minor": 2
}
